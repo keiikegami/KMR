{
 "cells": [
  {
   "cell_type": "code",
   "execution_count": 1,
   "metadata": {
    "collapsed": false
   },
   "outputs": [],
   "source": [
    "% matplotlib inline"
   ]
  },
  {
   "cell_type": "code",
   "execution_count": 1,
   "metadata": {
    "collapsed": true
   },
   "outputs": [],
   "source": [
    "#classの練習 chaos\n",
    "class chaos:\n",
    "    \n",
    "    def __init__(self,x0,r):\n",
    "        self.x, self.r = x0, r\n",
    "        \n",
    "    def update(self):\n",
    "        self.x = self.r * self.x * (1- self.x)\n",
    "\n",
    "    def generate_sequence(self,n):\n",
    "        path = []\n",
    "        for i in range(n):\n",
    "            path.append(self.x)\n",
    "            self.update()\n",
    "        return path"
   ]
  },
  {
   "cell_type": "code",
   "execution_count": 3,
   "metadata": {
    "collapsed": false
   },
   "outputs": [],
   "source": [
    "ch = chaos(0.1, 4.0) "
   ]
  },
  {
   "cell_type": "code",
   "execution_count": 13,
   "metadata": {
    "collapsed": false
   },
   "outputs": [
    {
     "data": {
      "text/plain": [
       "[0.09790487641603256,\n",
       " 0.35327804635997584,\n",
       " 0.9138906732802184,\n",
       " 0.3147780422865899,\n",
       " 0.8627713055232469]"
      ]
     },
     "execution_count": 13,
     "metadata": {},
     "output_type": "execute_result"
    }
   ],
   "source": [
    "#下の二つ、どちらのやり方でもいい。\n",
    "ch.generate_sequence(5)"
   ]
  },
  {
   "cell_type": "code",
   "execution_count": 14,
   "metadata": {
    "collapsed": false
   },
   "outputs": [
    {
     "data": {
      "text/plain": [
       "[0.4735879195558363,\n",
       " 0.997209608026444,\n",
       " 0.011130422744759724,\n",
       " 0.04402614573713064,\n",
       " 0.1683513769146543]"
      ]
     },
     "execution_count": 14,
     "metadata": {},
     "output_type": "execute_result"
    }
   ],
   "source": [
    "chaos.generate_sequence(ch, 5)"
   ]
  },
  {
   "cell_type": "code",
   "execution_count": 1,
   "metadata": {
    "collapsed": true
   },
   "outputs": [],
   "source": [
    "list= [[1,2],[3,4]]"
   ]
  },
  {
   "cell_type": "code",
   "execution_count": 20,
   "metadata": {
    "collapsed": true
   },
   "outputs": [],
   "source": [
    "import numpy as np"
   ]
  },
  {
   "cell_type": "code",
   "execution_count": 3,
   "metadata": {
    "collapsed": false
   },
   "outputs": [
    {
     "data": {
      "text/plain": [
       "array([[1, 3],\n",
       "       [2, 4]])"
      ]
     },
     "execution_count": 3,
     "metadata": {},
     "output_type": "execute_result"
    }
   ],
   "source": [
    "np.transpose(list)"
   ]
  },
  {
   "cell_type": "code",
   "execution_count": 26,
   "metadata": {
    "collapsed": true
   },
   "outputs": [],
   "source": [
    "#KMR　まずは遷移行列\n",
    "P = 0.2\n",
    "n = 10\n",
    "t = 1000\n",
    "epsilon = 0.1\n",
    "return_list = [[[4,4],[3,0]],[[0,3],[2,2]]]\n"
   ]
  },
  {
   "cell_type": "code",
   "execution_count": 22,
   "metadata": {
    "collapsed": false
   },
   "outputs": [
    {
     "data": {
      "text/plain": [
       "array([[[4, 0],\n",
       "        [3, 2]],\n",
       "\n",
       "       [[4, 3],\n",
       "        [0, 2]]])"
      ]
     },
     "execution_count": 22,
     "metadata": {},
     "output_type": "execute_result"
    }
   ],
   "source": [
    "#transposeすごいね\n",
    "np.transpose(return_list)"
   ]
  },
  {
   "cell_type": "code",
   "execution_count": 23,
   "metadata": {
    "collapsed": false
   },
   "outputs": [
    {
     "data": {
      "text/plain": [
       "array([[4, 3],\n",
       "       [0, 2]])"
      ]
     },
     "execution_count": 23,
     "metadata": {},
     "output_type": "execute_result"
    }
   ],
   "source": [
    "#行動1を選択してる時の、相手の行動による利得一覧\n",
    "#これがあれば利得の全要素にアクセスできる。\n",
    "one_return = np.transpose(np.transpose(return_list)[0])\n",
    "one_return"
   ]
  },
  {
   "cell_type": "code",
   "execution_count": 15,
   "metadata": {
    "collapsed": false
   },
   "outputs": [
    {
     "data": {
      "text/plain": [
       "array([[ 0.,  0.],\n",
       "       [ 0.,  0.]])"
      ]
     },
     "execution_count": 15,
     "metadata": {},
     "output_type": "execute_result"
    }
   ],
   "source": [
    "a = np.empty((2,2))\n",
    "a"
   ]
  },
  {
   "cell_type": "code",
   "execution_count": 24,
   "metadata": {
    "collapsed": false
   },
   "outputs": [],
   "source": [
    "#やっと遷移行列\n",
    "#まず先に、遷移行列と選択行動ごとの期待利得を入れる箱を作る\n",
    "x = np.empty((n+1,n+1))\n",
    "payoff0 = np.empty(2)\n",
    "payoff1 =  np.empty(2)"
   ]
  },
  {
   "cell_type": "code",
   "execution_count": 27,
   "metadata": {
    "collapsed": false
   },
   "outputs": [
    {
     "ename": "SyntaxError",
     "evalue": "invalid syntax (<ipython-input-27-3efa13b3817e>, line 21)",
     "output_type": "error",
     "traceback": [
      "\u001b[0;36m  File \u001b[0;32m\"<ipython-input-27-3efa13b3817e>\"\u001b[0;36m, line \u001b[0;32m21\u001b[0m\n\u001b[0;31m    x[i][i] = ((n-i)/n) * epsilon * 0.5　　#1の選択者が増えない確率\u001b[0m\n\u001b[0m                                       ^\u001b[0m\n\u001b[0;31mSyntaxError\u001b[0m\u001b[0;31m:\u001b[0m invalid syntax\n"
     ]
    }
   ],
   "source": [
    "\n",
    "#準備できた\n",
    "#最初と、最後は面倒くさそうだから別に作る\n",
    "#iを1選択者の数として考えていく\n",
    "for i in range(1,n):\n",
    "    \n",
    "    #まずはさっきのpayoff0,payoff1を埋める\n",
    "    \n",
    "    #payoff0[0]にはもともと0だった奴が、0のままにした時の期待利得\n",
    "    #payoff0[1]にはもともと0だった奴が、1のままにした時の期待利得\n",
    "    payoff0[0] = one_return[0][0]*(n-i-1)/(n-1) + one_return[0][1]*i/(n-1)\n",
    "    payoff0[1] = one_return[1][0] * (n-i-1)/(n-1) + pne_return[1][1]*i/(n-1)\n",
    "    \n",
    "    #payoff1[0]にはもともと1だった奴が、0に変更した時の期待利得\n",
    "    #payoff1[1]にはもともと1のやつが、1のままにした時の期待利得\n",
    "    payoff1[0] = one_return[0][0]*(n-i)/(n-1) + one_return[0][1]*(i-1)/(n-1)\n",
    "    payoff1[1] = one_return[1][0]*(n-i)/(n-1) + one_return[1][1]*(i-1)/(n-1)\n",
    "    \n",
    "    #まずは1の選択者が増える可能性のある場合\n",
    "    if payoff0[1] > payoff0[0]:\n",
    "        x[i][i+1] = ((n-i)/n) * ((1 - epsilon) + epsilon * 0.5) #1の選択者が一人増える確率\n",
    "        x[i][i] = ((n-i)/n) * epsilon * 0.5　　#1の選択者が増えない確率\n",
    "    \n",
    "    elif payoff0[0] == payoff[1]:\n",
    "        #0選択者が選ばれた時の話をしているので減ることは考えない\n",
    "        x[i][i+1] = ((n-i)/n) * 0.5\n",
    "        x[i][i] = ((n-i)/n) * 0.5\n",
    "        \n",
    "    else:\n",
    "        x[i][i+1] = ((n-i)/n) * epsilon * 0.5\n",
    "        x[i][i] = ((n-i)/n) * ((1-epsilon) + epsilon * 0.5)\n",
    "    \n",
    "    #次に1の選択者が減る可能性のある時\n",
    "    if payoff1[0] > payoff1[1]:\n",
    "        x[i][i-1] = (i/n) * ((1-epsilon) + epsilon * 0.5)  #増える場合\n",
    "        x[i][i] +=  (i/n) * epsilon * 0.5\n",
    "        \n",
    "    elif payoff1[0] == paoff1[1]:\n",
    "        x[i][i-1] = (i/n) * 0.5\n",
    "        x[i][i] += (i/n) * 0.5\n",
    "        \n",
    "    else:\n",
    "        x[i][i-1] = (i/n) * epsilon * 0.5\n",
    "        x[i][i] += (i/n) * ((1-epsilon) + epsilon * 0.5)\n",
    "        \n",
    "\n",
    "#最初と最後\n",
    "x[0][0] = 1- epsilon + epsilon * 0.5\n",
    "x[0][1] = epsilon * 0.5\n",
    "x[n][n-1] = epsilon * 0.5\n",
    "x[n][n] = 1- epsilon + epsilon * 0.5\n",
    "\n",
    "#初期値はランダムでだす\n",
    "initial_x = np.random. binomial(n,p)\n",
    "\n",
    "print x"
   ]
  },
  {
   "cell_type": "code",
   "execution_count": 20,
   "metadata": {
    "collapsed": false
   },
   "outputs": [
    {
     "name": "stdout",
     "output_type": "stream",
     "text": [
      "[[ 0.95   0.05   0.     0.     0.     0.     0.     0.     0.     0.     0.   ]\n",
      " [ 0.095  0.86   0.045  0.     0.     0.     0.     0.     0.     0.     0.   ]\n",
      " [ 0.     0.19   0.77   0.04   0.     0.     0.     0.     0.     0.     0.   ]\n",
      " [ 0.     0.     0.285  0.365  0.35   0.     0.     0.     0.     0.     0.   ]\n",
      " [ 0.     0.     0.     0.2    0.23   0.57   0.     0.     0.     0.     0.   ]\n",
      " [ 0.     0.     0.     0.     0.025  0.5    0.475  0.     0.     0.     0.   ]\n",
      " [ 0.     0.     0.     0.     0.     0.03   0.59   0.38   0.     0.     0.   ]\n",
      " [ 0.     0.     0.     0.     0.     0.     0.035  0.68   0.285  0.     0.   ]\n",
      " [ 0.     0.     0.     0.     0.     0.     0.     0.04   0.77   0.19   0.   ]\n",
      " [ 0.     0.     0.     0.     0.     0.     0.     0.     0.045  0.86\n",
      "   0.095]\n",
      " [ 0.     0.     0.     0.     0.     0.     0.     0.     0.     0.05\n",
      "   0.95 ]]\n"
     ]
    }
   ],
   "source": [
    "#遷移行列をだす。\n",
    "#修正\n",
    "from __future__ import division\n",
    "import numpy as np\n",
    "p = 0.3\n",
    "n = 10\n",
    "epsilon = 0.1\n",
    "t = 10000\n",
    "return_list = [[[4,4],[0,3]],[[3,0],[2,2]]]\n",
    "\n",
    "one_return = np.transpose(np.transpose(return_list)[0])\n",
    "\n",
    "x = np.empty((n+1,n+1))\n",
    "payoff0 = np.empty(2)\n",
    "payoff1 =  np.empty(2)\n",
    "\n",
    "for i in range(1,n):\n",
    "    \n",
    "    #まずはさっきのpayoff0,payoff1を埋める\n",
    "    \n",
    "    #payoff0[0]にはもともと0だった奴が、0のままにした時の期待利得\n",
    "    #payoff0[1]にはもともと0だった奴が、1にした時の期待利得\n",
    "    payoff0[0] = one_return[0][0]*(n-i-1)/(n-1) + one_return[0][1]*i/(n-1)\n",
    "    payoff0[1] = one_return[1][0]*(n-i-1)/(n-1) + one_return[1][1]*i/(n-1)\n",
    "    \n",
    "    #payoff1[0]にはもともと1だった奴が、0に変更した時の期待利得\n",
    "    #payoff1[1]にはもともと1のやつが、1のままにした時の期待利得\n",
    "    payoff1[0] = one_return[0][0]*(n-i)/(n-1) + one_return[0][1]*(i-1)/(n-1)\n",
    "    payoff1[1] = one_return[1][0]*(n-i)/(n-1) + one_return[1][1]*(i-1)/(n-1)\n",
    "    \n",
    "    #まずは1の選択者が増える可能性のある場合\n",
    "    if payoff0[1] > payoff0[0]:\n",
    "        x[i][i+1] = ((n-i)/n) * ((1 - epsilon) + epsilon * 0.5) #1の選択者が一人増える確率\n",
    "        x[i][i] = ((n-i)/n)*epsilon * 0.5 #1の選択者が増えない確率\n",
    "    \n",
    "    elif payoff0[0] == payoff0[1]:\n",
    "        #0選択者が選ばれた時の話をしているので減ることは考えない\n",
    "        x[i][i+1] = ((n-i)/n) * 0.5\n",
    "        x[i][i] = ((n-i)/n) * 0.5\n",
    "        \n",
    "    else:\n",
    "        x[i][i+1] = ((n-i)/n) * epsilon * 0.5\n",
    "        x[i][i] = ((n-i)/n) * ((1-epsilon) + epsilon * 0.5)\n",
    "    \n",
    "    #次に1の選択者が減る可能性のある時\n",
    "    if payoff1[0] > payoff1[1]:\n",
    "        x[i][i-1] = (i/n) * ((1-epsilon) + epsilon * 0.5)  #へる場合\n",
    "        x[i][i] +=  (i/n) * epsilon * 0.5\n",
    "        \n",
    "    elif payoff1[0] == payoff1[1]:\n",
    "        x[i][i-1] = (i/n) * 0.5\n",
    "        x[i][i] += (i/n) * 0.5\n",
    "        \n",
    "    else:\n",
    "        x[i][i-1] = (i/n) * epsilon * 0.5\n",
    "        x[i][i] += (i/n) * ((1-epsilon) + epsilon * 0.5)\n",
    "        \n",
    "\n",
    "#最初と最後\n",
    "x[0][0] = 1- epsilon + epsilon * 0.5\n",
    "x[0][1] = epsilon * 0.5\n",
    "x[n][n-1] = epsilon * 0.5\n",
    "x[n][n] = 1- epsilon + epsilon * 0.5\n",
    "\n",
    "#初期値はランダムでだす\n",
    "initial_x = np.random.binomial(n,p)\n",
    "\n",
    "print x"
   ]
  },
  {
   "cell_type": "code",
   "execution_count": 35,
   "metadata": {
    "collapsed": false
   },
   "outputs": [
    {
     "data": {
      "text/plain": [
       "Markov chain with transition matrix \n",
       "P = \n",
       "[[ 0.95   0.05   0.     0.     0.     0.     0.     0.     0.     0.     0.   ]\n",
       " [ 0.095  0.86   0.045  0.     0.     0.     0.     0.     0.     0.     0.   ]\n",
       " [ 0.     0.19   0.77   0.04   0.     0.     0.     0.     0.     0.     0.   ]\n",
       " [ 0.     0.     0.285  0.68   0.035  0.     0.     0.     0.     0.     0.   ]\n",
       " [ 0.     0.     0.     0.38   0.59   0.03   0.     0.     0.     0.     0.   ]\n",
       " [ 0.     0.     0.     0.     0.475  0.5    0.025  0.     0.     0.     0.   ]\n",
       " [ 0.     0.     0.     0.     0.     0.57   0.41   0.02   0.     0.     0.   ]\n",
       " [ 0.     0.     0.     0.     0.     0.     0.665  0.32   0.015  0.     0.   ]\n",
       " [ 0.     0.     0.     0.     0.     0.     0.     0.76   0.23   0.01   0.   ]\n",
       " [ 0.     0.     0.     0.     0.     0.     0.     0.     0.855  0.14\n",
       "   0.005]\n",
       " [ 0.     0.     0.     0.     0.     0.     0.     0.     0.     0.05\n",
       "   0.95 ]]"
      ]
     },
     "execution_count": 35,
     "metadata": {},
     "output_type": "execute_result"
    }
   ],
   "source": [
    "#quanteconのimport\n",
    "import quantecon as qe\n",
    "mc = qe.MarkovChain(x)\n",
    "mc"
   ]
  },
  {
   "cell_type": "code",
   "execution_count": 23,
   "metadata": {
    "collapsed": false
   },
   "outputs": [
    {
     "data": {
      "text/plain": [
       "array([[  5.98736939e-01,   3.15124705e-01,   7.46347985e-02,\n",
       "          1.04750594e-02,   9.64808106e-04,   6.09352488e-05,\n",
       "          2.67259863e-06,   8.03789062e-08,   1.58642578e-09,\n",
       "          1.85546875e-11,   1.85546875e-12]])"
      ]
     },
     "execution_count": 23,
     "metadata": {},
     "output_type": "execute_result"
    }
   ],
   "source": [
    " #定常状態出す\n",
    "mc.stationary_distributions"
   ]
  },
  {
   "cell_type": "code",
   "execution_count": 34,
   "metadata": {
    "collapsed": false
   },
   "outputs": [
    {
     "data": {
      "text/plain": [
       "[array([ 0,  1,  2,  3,  4,  5,  6,  7,  8,  9, 10])]"
      ]
     },
     "execution_count": 34,
     "metadata": {},
     "output_type": "execute_result"
    }
   ],
   "source": [
    "#以下quant econ　に上がっていたmethod達\n",
    "mc.recurrent_classes"
   ]
  },
  {
   "cell_type": "code",
   "execution_count": 26,
   "metadata": {
    "collapsed": false
   },
   "outputs": [
    {
     "data": {
      "text/plain": [
       "1"
      ]
     },
     "execution_count": 26,
     "metadata": {},
     "output_type": "execute_result"
    }
   ],
   "source": [
    "mc.period"
   ]
  },
  {
   "cell_type": "code",
   "execution_count": 27,
   "metadata": {
    "collapsed": false
   },
   "outputs": [
    {
     "data": {
      "text/plain": [
       "1"
      ]
     },
     "execution_count": 27,
     "metadata": {},
     "output_type": "execute_result"
    }
   ],
   "source": [
    "mc.num_recurrent_classes"
   ]
  },
  {
   "cell_type": "code",
   "execution_count": 28,
   "metadata": {
    "collapsed": false
   },
   "outputs": [
    {
     "data": {
      "text/plain": [
       "1"
      ]
     },
     "execution_count": 28,
     "metadata": {},
     "output_type": "execute_result"
    }
   ],
   "source": [
    "mc.num_communication_classes"
   ]
  },
  {
   "cell_type": "code",
   "execution_count": 29,
   "metadata": {
    "collapsed": false
   },
   "outputs": [
    {
     "data": {
      "text/plain": [
       "True"
      ]
     },
     "execution_count": 29,
     "metadata": {},
     "output_type": "execute_result"
    }
   ],
   "source": [
    "mc.is_irreducible"
   ]
  },
  {
   "cell_type": "code",
   "execution_count": 30,
   "metadata": {
    "collapsed": false
   },
   "outputs": [
    {
     "data": {
      "text/plain": [
       "True"
      ]
     },
     "execution_count": 30,
     "metadata": {},
     "output_type": "execute_result"
    }
   ],
   "source": [
    "mc.is_aperiodic"
   ]
  },
  {
   "cell_type": "code",
   "execution_count": 31,
   "metadata": {
    "collapsed": false
   },
   "outputs": [
    {
     "data": {
      "text/plain": [
       "[array([ 0,  1,  2,  3,  4,  5,  6,  7,  8,  9, 10])]"
      ]
     },
     "execution_count": 31,
     "metadata": {},
     "output_type": "execute_result"
    }
   ],
   "source": [
    "mc.cyclic_classes"
   ]
  },
  {
   "cell_type": "code",
   "execution_count": 32,
   "metadata": {
    "collapsed": false
   },
   "outputs": [
    {
     "data": {
      "text/plain": [
       "[array([ 0,  1,  2,  3,  4,  5,  6,  7,  8,  9, 10])]"
      ]
     },
     "execution_count": 32,
     "metadata": {},
     "output_type": "execute_result"
    }
   ],
   "source": [
    "mc.communication_classes"
   ]
  },
  {
   "cell_type": "code",
   "execution_count": 33,
   "metadata": {
    "collapsed": false,
    "scrolled": true
   },
   "outputs": [
    {
     "data": {
      "text/plain": [
       "<bound method MarkovChain.simulate of Markov chain with transition matrix \n",
       "P = \n",
       "[[ 0.95   0.05   0.     0.     0.     0.     0.     0.     0.     0.     0.   ]\n",
       " [ 0.095  0.86   0.045  0.     0.     0.     0.     0.     0.     0.     0.   ]\n",
       " [ 0.     0.19   0.77   0.04   0.     0.     0.     0.     0.     0.     0.   ]\n",
       " [ 0.     0.     0.285  0.68   0.035  0.     0.     0.     0.     0.     0.   ]\n",
       " [ 0.     0.     0.     0.38   0.59   0.03   0.     0.     0.     0.     0.   ]\n",
       " [ 0.     0.     0.     0.     0.475  0.5    0.025  0.     0.     0.     0.   ]\n",
       " [ 0.     0.     0.     0.     0.     0.57   0.41   0.02   0.     0.     0.   ]\n",
       " [ 0.     0.     0.     0.     0.     0.     0.665  0.32   0.015  0.     0.   ]\n",
       " [ 0.     0.     0.     0.     0.     0.     0.     0.76   0.23   0.01   0.   ]\n",
       " [ 0.     0.     0.     0.     0.     0.     0.     0.     0.855  0.14\n",
       "   0.005]\n",
       " [ 0.     0.     0.     0.     0.     0.     0.     0.     0.     0.05\n",
       "   0.95 ]]\n",
       "and stationary distributions \n",
       "[[  5.98736939e-01   3.15124705e-01   7.46347985e-02   1.04750594e-02\n",
       "    9.64808106e-04   6.09352488e-05   2.67259863e-06   8.03789062e-08\n",
       "    1.58642578e-09   1.85546875e-11   1.85546875e-12]]>"
      ]
     },
     "execution_count": 33,
     "metadata": {},
     "output_type": "execute_result"
    }
   ],
   "source": [
    "mc.simulate"
   ]
  },
  {
   "cell_type": "code",
   "execution_count": 149,
   "metadata": {
    "collapsed": false
   },
   "outputs": [],
   "source": [
    "\n",
    "#自分でクラスを作ろう\n",
    "#修正：利得行列が、間違ってました\n",
    "\n",
    "import numpy as np\n",
    "import quantecon as qe\n",
    "import matplotlib.pyplot as plt\n",
    "from __future__ import division\n",
    "\n",
    "\n",
    "def tran(n,epsilon):\n",
    "    \n",
    "    return_list = [[[4,4],[0,3]],[[3,0],[2,2]]]\n",
    "\n",
    "    one_return = np.transpose(np.transpose(return_list)[0])\n",
    "\n",
    "    x = np.empty((n+1,n+1))\n",
    "    payoff0 = np.empty(2)\n",
    "    payoff1 =  np.empty(2)\n",
    "\n",
    "    for i in range(1,n):\n",
    "\n",
    "        #まずはさっきのpayoff0,payoff1を埋める\n",
    "\n",
    "        #payoff0[0]にはもともと0だった奴が、0のままにした時の期待利得\n",
    "        #payoff0[1]にはもともと0だった奴が、1のままにした時の期待利得\n",
    "        payoff0[0] = one_return[0][0]*(n-i-1)/(n-1) + one_return[0][1]*i/(n-1)\n",
    "        payoff0[1] = one_return[1][0]*(n-i-1)/(n-1) + one_return[1][1]*i/(n-1)\n",
    "\n",
    "        #payoff1[0]にはもともと1だった奴が、0に変更した時の期待利得\n",
    "        #payoff1[1]にはもともと1のやつが、1のままにした時の期待利得\n",
    "        payoff1[0] = one_return[0][0]*(n-i)/(n-1) + one_return[0][1]*(i-1)/(n-1)\n",
    "        payoff1[1] = one_return[1][0]*(n-i)/(n-1) + one_return[1][1]*(i-1)/(n-1)\n",
    "\n",
    "        #まずは1の選択者が増える可能性のある場合\n",
    "        if payoff0[1] > payoff0[0]:\n",
    "            x[i][i+1] = ((n-i)/n) * ((1 - epsilon) + epsilon * 0.5) #1の選択者が一人増える確率\n",
    "            x[i][i] = ((n-i)/n)*epsilon * 0.5 #1の選択者が増えない確率\n",
    "\n",
    "        elif payoff0[0] == payoff0[1]:\n",
    "            #0選択者が選ばれた時の話をしているので減ることは考えない\n",
    "            x[i][i+1] = ((n-i)/n) * 0.5\n",
    "            x[i][i] = ((n-i)/n) * 0.5\n",
    "\n",
    "        else:\n",
    "            x[i][i+1] = ((n-i)/n) * epsilon * 0.5\n",
    "            x[i][i] = ((n-i)/n) * ((1-epsilon) + epsilon * 0.5)\n",
    "\n",
    "        #次に1の選択者が減る可能性のある時\n",
    "        if payoff1[0] > payoff1[1]:\n",
    "            x[i][i-1] = (i/n) * ((1-epsilon) + epsilon * 0.5)  #増える場合\n",
    "            x[i][i] +=  (i/n) * epsilon * 0.5\n",
    "\n",
    "        elif payoff1[0] == payoff1[1]:\n",
    "            x[i][i-1] = (i/n) * 0.5\n",
    "            x[i][i] += (i/n) * 0.5\n",
    "\n",
    "        else:\n",
    "            x[i][i-1] = (i/n) * epsilon * 0.5\n",
    "            x[i][i] += (i/n) * ((1-epsilon) + epsilon * 0.5)\n",
    "\n",
    "\n",
    "    #最初と最後\n",
    "    x[0][0] = 1- epsilon + epsilon * 0.5\n",
    "    x[0][1] = epsilon * 0.5\n",
    "    x[n][n-1] = epsilon * 0.5\n",
    "    x[n][n] = 1- epsilon + epsilon * 0.5\n",
    "    \n",
    "    return x\n",
    "\n",
    "class KMR:\n",
    "    \n",
    "    def __init__(self,n0,epsilon0,t0,q0):\n",
    "        self.n = n0\n",
    "        self.epsilon = epsilon0\n",
    "        self.t = t0\n",
    "        self.q = q0\n",
    "        \n",
    "    def transition(self):\n",
    "        return tran(self.n, self.epsilon)\n",
    "    \n",
    "    def stationary_dist(self):\n",
    "        mc = qe.MarkovChain(self.transition())\n",
    "        state_mc = mc.stationary_distributions\n",
    "        return state_mc\n",
    "    \n",
    "    def updata(self):\n",
    "\n",
    "        if 1<= self.q <= self.n -1:\n",
    "            a = np.random.rand()\n",
    "            \n",
    "            if a<= self.transition()[self.q][self.q-1]:\n",
    "                self.q = (self.q) - 1\n",
    "\n",
    "            elif  self.transition()[self.q][self.q-1] < a <= (self.transition()[self.q][self.q] + self.transition()[self.q][self.q-1]):\n",
    "                self.q = self.q\n",
    "\n",
    "            elif (self.transition()[self.q][self.q] + self.transition()[self.q][self.q-1])< a:\n",
    "                self.q = (self.q) + 1\n",
    "\n",
    "        if self.q == 0:\n",
    "            b=np.random.rand()\n",
    "            \n",
    "            if self.transition()[0][0] < b:\n",
    "                self.q = self.q + 1\n",
    "                \n",
    "            elif b <= self.transition()[0][0]:\n",
    "                self.q = self.q\n",
    "                \n",
    "                \n",
    "        if self.q == self.n:\n",
    "            c = np.random.rand()\n",
    "            \n",
    "            if c <= self.transition()[self.n][self.n-1]:\n",
    "                self.q = self.q-1\n",
    "                \n",
    "            elif self.transition()[self.n][self.n-1] < c:\n",
    "                self.q = self.q\n",
    "        \n",
    "        \n",
    "    def generate_sequence(self):\n",
    "        path = [self.q]\n",
    "        for i in range(self.t):\n",
    "            path.append(self.q)\n",
    "            self.updata()\n",
    "        return path\n",
    "    \n",
    "    def simulation(self):\n",
    "        fig, ax = plt.subplots()\n",
    "        plt.ylim(0,self.n)\n",
    "        plt.title(\"KMR_transition\")\n",
    "        plt.xlabel(\"time\")\n",
    "        plt.ylabel(\"number\")\n",
    "        y = self.generate_sequence()\n",
    "        plt.plot(y)\n",
    "        plt.show()"
   ]
  },
  {
   "cell_type": "code",
   "execution_count": 220,
   "metadata": {
    "collapsed": false
   },
   "outputs": [],
   "source": [
    "z = KMR(6 ,0.1,1000,0)"
   ]
  },
  {
   "cell_type": "code",
   "execution_count": 153,
   "metadata": {
    "collapsed": false
   },
   "outputs": [
    {
     "data": {
      "text/plain": [
       "array([[ 0.95      ,  0.05      ,  0.        ,  0.        ,  0.        ,\n",
       "         0.        ,  0.        ],\n",
       "       [ 0.15833333,  0.8       ,  0.04166667,  0.        ,  0.        ,\n",
       "         0.        ,  0.        ],\n",
       "       [ 0.        ,  0.31666667,  0.05      ,  0.63333333,  0.        ,\n",
       "         0.        ,  0.        ],\n",
       "       [ 0.        ,  0.        ,  0.025     ,  0.5       ,  0.475     ,\n",
       "         0.        ,  0.        ],\n",
       "       [ 0.        ,  0.        ,  0.        ,  0.03333333,  0.65      ,\n",
       "         0.31666667,  0.        ],\n",
       "       [ 0.        ,  0.        ,  0.        ,  0.        ,  0.04166667,\n",
       "         0.8       ,  0.15833333],\n",
       "       [ 0.        ,  0.        ,  0.        ,  0.        ,  0.        ,\n",
       "         0.05      ,  0.95      ]])"
      ]
     },
     "execution_count": 153,
     "metadata": {},
     "output_type": "execute_result"
    }
   ],
   "source": [
    "z.transition()"
   ]
  },
  {
   "cell_type": "code",
   "execution_count": 27,
   "metadata": {
    "collapsed": false
   },
   "outputs": [
    {
     "data": {
      "text/plain": [
       "array([[  2.03082808e-03,   6.41314131e-04,   8.43834383e-05,\n",
       "          2.13771377e-03,   3.04624212e-02,   2.31514401e-01,\n",
       "          7.33128938e-01]])"
      ]
     },
     "execution_count": 27,
     "metadata": {},
     "output_type": "execute_result"
    }
   ],
   "source": [
    "z.stationary_dist()"
   ]
  },
  {
   "cell_type": "code",
   "execution_count": 221,
   "metadata": {
    "collapsed": false
   },
   "outputs": [
    {
     "data": {
      "image/png": "[encoded data removed]",
      "text/plain": [
       "<matplotlib.figure.Figure at 0x1113b5ad0>"
      ]
     },
     "metadata": {},
     "output_type": "display_data"
    }
   ],
   "source": [
    "z.simulation()"
   ]
  },
  {
   "cell_type": "code",
   "execution_count": null,
   "metadata": {
    "collapsed": true
   },
   "outputs": [],
   "source": []
  }
 ],
 "metadata": {
  "kernelspec": {
   "display_name": "Python 2",
   "language": "python",
   "name": "python2"
  },
  "language_info": {
   "codemirror_mode": {
    "name": "ipython",
    "version": 2
   },
   "file_extension": ".py",
   "mimetype": "text/x-python",
   "name": "python",
   "nbconvert_exporter": "python",
   "pygments_lexer": "ipython2",
   "version": "2.7.9"
  }
 },
 "nbformat": 4,
 "nbformat_minor": 0
}
